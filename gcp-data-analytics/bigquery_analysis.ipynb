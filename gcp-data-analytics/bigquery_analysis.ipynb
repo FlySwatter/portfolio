{
  "cells": [
    {
      "cell_type": "markdown",
      "metadata": {},
      "source": [
        "# BigQuery + Pandas Analysis\n",
        "Query a public dataset and plot results."
      ]
    },
    {
      "cell_type": "code",
      "metadata": {},
      "source": [
        "import pandas as pd\n",
        "from google.cloud import bigquery\n",
        "import matplotlib.pyplot as plt\n",
        "client = bigquery.Client()\n",
        "QUERY = '''\n",
        "SELECT year, COUNT(1) as births\n",
        "FROM `bigquery-public-data.samples.natality`\n",
        "WHERE year BETWEEN 2000 AND 2004\n",
        "GROUP BY year\n",
        "ORDER BY year\n",
        "'''\n",
        "df = client.query(QUERY).to_dataframe()\n",
        "df"
      ]
    },
    {
      "cell_type": "code",
      "metadata": {},
      "source": [
        "plt.figure()\n",
        "plt.plot(df['year'], df['births'], marker='o')\n",
        "plt.title('Births by Year (2000-2004)')\n",
        "plt.xlabel('Year')\n",
        "plt.ylabel('Births')\n",
        "plt.show()"
      ]
    }
  ],
  "metadata": {
    "kernelspec": {
      "display_name": "Python 3",
      "language": "python",
      "name": "python3"
    }
  },
  "nbformat": 4,
  "nbformat_minor": 2
}